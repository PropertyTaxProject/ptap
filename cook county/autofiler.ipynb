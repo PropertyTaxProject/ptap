{
 "cells": [
  {
   "cell_type": "code",
   "execution_count": 1,
   "metadata": {},
   "outputs": [],
   "source": [
    "import selenium\n",
    "from selenium.webdriver.support.ui import WebDriverWait\n",
    "from selenium.webdriver.support import expected_conditions as EC\n",
    "from selenium.webdriver.common.by import By\n",
    "import time\n",
    "\n",
    "from selenium.webdriver import Chrome\n",
    "ACCOUNT_EMAIL = 'austinzhang1018@gmail.com'\n",
    "ACCOUNT_PASSWORD = '6hf3JAbYphXbgsD'\n",
    "FILER_NAME = 'Johnny Appleseed'\n",
    "FILER_PHONE = '0123456789'\n",
    "ATTORNEY_AUTH_FORM = '/home/austin/Documents/test.pdf'\n",
    "COMP_PROPS_FORM = '/home/austin/Documents/test1.pdf'\n",
    "APPEAL_NARRATIVE = '/home/austin/Documents/test2.pdf'\n",
    "APPEAL_ADDRESS = 'https://propertytaxfilings.cookcountyil.gov/Filing/Search/Form/CCAO_APPEAL_RES_012920'\n"
   ]
  },
  {
   "cell_type": "code",
   "execution_count": 2,
   "metadata": {},
   "outputs": [],
   "source": [
    "def login():\n",
    "    driver.get(\"https://propertytaxfilings.cookcountyil.gov/\")\n",
    "    driver.find_element_by_id('Email').send_keys(ACCOUNT_EMAIL)\n",
    "    driver.find_element_by_id('Password').send_keys(ACCOUNT_PASSWORD)\n",
    "    driver.find_element_by_id('login').click()"
   ]
  },
  {
   "cell_type": "code",
   "execution_count": 3,
   "metadata": {},
   "outputs": [],
   "source": [
    "# navigates to residential appeal page and inputs pin\n",
    "def begin_appeal(pin):\n",
    "    driver.get(APPEAL_ADDRESS)\n",
    "    pin_entry = driver.find_element_by_name('PARID')\n",
    "    pin_entry.send_keys(pin)\n",
    "    driver.find_element_by_id('SearchButton').click()\n",
    "    try:\n",
    "        WebDriverWait(driver, 5).until(EC.presence_of_element_located((By.LINK_TEXT, \"Start Filing\")))\n",
    "    except:\n",
    "        # failed to find pin\n",
    "        raise Exception('Could not find property for pin ' + str(pin))\n",
    "\n",
    "    driver.find_element_by_link_text('Start Filing').click()\n",
    "\n",
    "    WebDriverWait(driver, 5).until(EC.alert_is_present())\n",
    "    clickthrough_alert()\n"
   ]
  },
  {
   "cell_type": "code",
   "execution_count": 4,
   "metadata": {},
   "outputs": [],
   "source": [
    "# auto clickthrough alerts\n",
    "def clickthrough_alert(): \n",
    "    try:\n",
    "        driver.switch_to.alert.accept()\n",
    "        return True\n",
    "    except:\n",
    "        return False\n",
    "\n",
    "def activity_window():\n",
    "    driver.find_element_by_name('ACKN').click()\n",
    "    driver.find_element_by_name('RULESACKN').click()\n",
    "    click_next()"
   ]
  },
  {
   "cell_type": "code",
   "execution_count": 5,
   "metadata": {},
   "outputs": [],
   "source": [
    "def click_next():\n",
    "    try:\n",
    "        WebDriverWait(driver, 5).until(EC.element_to_be_clickable((By.XPATH, '//*[@title=\"Next\"]')))\n",
    "        driver.find_element_by_xpath('//*[@title=\"Next\"]').click()\n",
    "    except:\n",
    "        # failed to find pin\n",
    "        raise Exception('Could not find next button')\n",
    "    time.sleep(3)\n",
    "\n",
    "\n",
    "def verify_parcel():\n",
    "    click_next()"
   ]
  },
  {
   "cell_type": "code",
   "execution_count": 6,
   "metadata": {},
   "outputs": [],
   "source": [
    "def primary_pin():\n",
    "    click_next()\n",
    "    \n",
    "def additional_pins():\n",
    "    click_next()"
   ]
  },
  {
   "cell_type": "code",
   "execution_count": 7,
   "metadata": {},
   "outputs": [],
   "source": [
    "def filer():\n",
    "    driver.find_element_by_xpath(\"//select[@name='IS_AGENT_YN']/option[text()='ATTORNEY/TAX REPRESENTATIVE']\").click()\n",
    "    # TODO: needs tax rep code to write this part\n",
    "    click_next()\n",
    "    # HERE FOR NOW BECAUSE WE CAN'T FILL THIS OUT\n",
    "    input('please manually click through and press enter when complete')\n",
    "    # NOT WORKING NEED TO MANUALLY CLICK FOR TESTING NOW\n",
    "#     driver.find_element_by_xpath('/html/body/div[11]/div[2]/div/button[2]')\n",
    "def property_chars():\n",
    "    click_next()\n",
    "    "
   ]
  },
  {
   "cell_type": "code",
   "execution_count": 8,
   "metadata": {},
   "outputs": [],
   "source": [
    "def appeal_application():\n",
    "    driver.find_element_by_name('CHKBX_LACKOFUNIFORM').click()\n",
    "    driver.find_element_by_name('CHKBX_SINGLEFAM').click()\n",
    "    driver.find_element_by_name('LACKOFUNIFORM_EXPL').send_keys('See attachment')\n",
    "    click_next()"
   ]
  },
  {
   "cell_type": "code",
   "execution_count": 9,
   "metadata": {},
   "outputs": [],
   "source": [
    "def attachments(): # TODO: Make this more robust/less prone to error if the webpage changes\n",
    "    file_uploads = driver.find_elements_by_name('files')\n",
    "    # must do in this order as it spawns new elements that change length of array\n",
    "    file_uploads[6].send_keys(COMP_PROPS_FORM)\n",
    "    # currently need the sleeps or else system glitches and adds multiple of same file\n",
    "    # TODO: Make this more robust and not time dependent\n",
    "    time.sleep(2)\n",
    "    file_uploads[3].send_keys(ATTORNEY_AUTH_FORM)\n",
    "    time.sleep(2)\n",
    "    file_uploads[1].send_keys(APPEAL_NARRATIVE)\n",
    "    time.sleep(5)\n",
    "    click_next()"
   ]
  },
  {
   "cell_type": "code",
   "execution_count": 10,
   "metadata": {},
   "outputs": [],
   "source": [
    "def finish_submission():\n",
    "    driver.find_element_by_name('F_NAME').send_keys(FILER_NAME)\n",
    "    driver.find_element_by_name('F_PHONE').send_keys(FILER_PHONE)\n",
    "    # NEED TO ADD SUBMIT BUT NOT DOING YET - don't want accidental submissions"
   ]
  },
  {
   "cell_type": "code",
   "execution_count": 11,
   "metadata": {},
   "outputs": [
    {
     "data": {
      "text/plain": [
       "False"
      ]
     },
     "execution_count": 11,
     "metadata": {},
     "output_type": "execute_result"
    }
   ],
   "source": [
    "driver = Chrome()\n",
    "driver.set_window_size(400, 800)\n",
    "driver.set_window_position(0, 0)\n",
    "\n",
    "login()\n",
    "begin_appeal('24013010650000')\n",
    "clickthrough_alert()"
   ]
  },
  {
   "cell_type": "code",
   "execution_count": 12,
   "metadata": {},
   "outputs": [],
   "source": [
    "activity_window()"
   ]
  },
  {
   "cell_type": "code",
   "execution_count": 13,
   "metadata": {},
   "outputs": [],
   "source": [
    "verify_parcel()"
   ]
  },
  {
   "cell_type": "code",
   "execution_count": 14,
   "metadata": {},
   "outputs": [],
   "source": [
    "primary_pin()\n",
    "# add better delay method later\n",
    "time.sleep(2)\n",
    "additional_pins()"
   ]
  },
  {
   "cell_type": "code",
   "execution_count": 15,
   "metadata": {},
   "outputs": [
    {
     "name": "stdout",
     "output_type": "stream",
     "text": [
      "please manually click through and press enter when complete\n"
     ]
    }
   ],
   "source": [
    "filer()\n",
    "property_chars()"
   ]
  },
  {
   "cell_type": "code",
   "execution_count": 16,
   "metadata": {},
   "outputs": [],
   "source": [
    "appeal_application()"
   ]
  },
  {
   "cell_type": "code",
   "execution_count": 17,
   "metadata": {},
   "outputs": [],
   "source": [
    "attachments()"
   ]
  },
  {
   "cell_type": "code",
   "execution_count": 18,
   "metadata": {},
   "outputs": [
    {
     "name": "stdout",
     "output_type": "stream",
     "text": [
      "0\n"
     ]
    }
   ],
   "source": [
    "file_uploads = driver.find_elements_by_name('files')\n",
    "print(len(file_uploads))\n"
   ]
  },
  {
   "cell_type": "code",
   "execution_count": 19,
   "metadata": {},
   "outputs": [],
   "source": [
    "finish_submission()"
   ]
  }
 ],
 "metadata": {
  "kernelspec": {
   "display_name": "Python 3",
   "language": "python",
   "name": "python3"
  },
  "language_info": {
   "codemirror_mode": {
    "name": "ipython",
    "version": 3
   },
   "file_extension": ".py",
   "mimetype": "text/x-python",
   "name": "python",
   "nbconvert_exporter": "python",
   "pygments_lexer": "ipython3",
   "version": "3.6.9"
  }
 },
 "nbformat": 4,
 "nbformat_minor": 2
}
