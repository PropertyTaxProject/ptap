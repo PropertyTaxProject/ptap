{
 "cells": [
  {
   "cell_type": "code",
   "execution_count": 6,
   "metadata": {},
   "outputs": [
    {
     "data": {
      "text/plain": [
       "('data/characteristics.csv', <http.client.HTTPMessage at 0x19edbf02c08>)"
      ]
     },
     "execution_count": 6,
     "metadata": {},
     "output_type": "execute_result"
    }
   ],
   "source": [
    "import urllib.request\n",
    "\n",
    "url_base = \"https://datacatalog.cookcountyil.gov/api/views/\"\n",
    "url_tail = \"/rows.csv?accessType=DOWNLOAD\"\n",
    "\n",
    "characteristics = \"bcnq-qi2z\"\n",
    "sales = \"5pge-nu6u\"\n",
    "assessments = \"uqb9-r7vn\"\n",
    "\n",
    "urllib.request.urlretrieve(url_base + characteristics + url_tail, \"data/characteristics.csv\")\n"
   ]
  },
  {
   "cell_type": "code",
   "execution_count": 7,
   "metadata": {},
   "outputs": [
    {
     "data": {
      "text/plain": [
       "('data/assessments.csv', <http.client.HTTPMessage at 0x19edbef6ac8>)"
      ]
     },
     "execution_count": 7,
     "metadata": {},
     "output_type": "execute_result"
    }
   ],
   "source": [
    "urllib.request.urlretrieve(url_base + sales + url_tail, \"data/sales.csv\")\n",
    "urllib.request.urlretrieve(url_base + assessments + url_tail, \"data/assessments.csv\")"
   ]
  },
  {
   "cell_type": "code",
   "execution_count": 8,
   "metadata": {},
   "outputs": [
    {
     "data": {
      "text/plain": [
       "('data/addresses.csv', <http.client.HTTPMessage at 0x19edbe52848>)"
      ]
     },
     "execution_count": 8,
     "metadata": {},
     "output_type": "execute_result"
    }
   ],
   "source": [
    "addresses = \"https://opendata.arcgis.com/datasets/5ec856ded93e4f85b3f6e1bc027a2472_0.csv?outSR=%7B%22latestWkid%22%3A3435%2C%22wkid%22%3A102671%7D\"\n",
    "urllib.request.urlretrieve(addresses, \"data/addresses.csv\")\n"
   ]
  }
 ],
 "metadata": {
  "kernelspec": {
   "display_name": "Python 3",
   "language": "python",
   "name": "python3"
  },
  "language_info": {
   "codemirror_mode": {
    "name": "ipython",
    "version": 3
   },
   "file_extension": ".py",
   "mimetype": "text/x-python",
   "name": "python",
   "nbconvert_exporter": "python",
   "pygments_lexer": "ipython3",
   "version": "3.7.6"
  }
 },
 "nbformat": 4,
 "nbformat_minor": 4
}
